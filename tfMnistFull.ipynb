{
 "cells": [
  {
   "cell_type": "code",
   "execution_count": 1,
   "metadata": {},
   "outputs": [],
   "source": [
    "import tensorflow as tf\n",
    "import numpy as np"
   ]
  },
  {
   "cell_type": "markdown",
   "metadata": {},
   "source": [
    "**Build stage"
   ]
  },
  {
   "cell_type": "code",
   "execution_count": 2,
   "metadata": {},
   "outputs": [],
   "source": [
    "n_inputs=28*28\n",
    "n_hidden1=300\n",
    "n_hidden2=100\n",
    "n_outputs=10\n",
    "#None because we don't know train set size\n",
    "X=tf.placeholder(tf.float32,shape=(None,n_inputs),name=\"X\")\n",
    "y=tf.placeholder(tf.int64,shape=(None),name=\"y\")"
   ]
  },
  {
   "cell_type": "code",
   "execution_count": 3,
   "metadata": {},
   "outputs": [],
   "source": [
    "#neuron layer\n",
    "def neuron_layer(X,n_neurons,name,activation=None):\n",
    "    #tidy structure for tensorboard\n",
    "    with tf.name_scope(name):\n",
    "        \n",
    "        #inputs count\n",
    "        n_inputs=int(X.get_shape()[1]) #784=28*28\n",
    "        \n",
    "        #weight matrix (layer kernel)\n",
    "        stddev=2/np.sqrt(n_inputs+n_neurons) #truncated normal distribution\n",
    "        init=tf.truncated_normal((n_inputs,n_neurons),stddev=stddev) #random values\n",
    "        W=tf.Variable(init,name=\"kernel\")\n",
    "        \n",
    "        #bias\n",
    "        b=tf.Variable(tf.zeros([n_neurons]),name=\"bias\")\n",
    "        \n",
    "        #weighted sums of inputs + bias\n",
    "        Z=tf.matmul(X,W)+b\n",
    "        \n",
    "        if activation is None:\n",
    "            return Z\n",
    "        else:\n",
    "            return activation(Z)        "
   ]
  },
  {
   "cell_type": "code",
   "execution_count": 4,
   "metadata": {},
   "outputs": [],
   "source": [
    "#deep neural network\n",
    "with tf.name_scope(\"dnn\"):\n",
    "    \n",
    "    #X ==> hidden1\n",
    "    hidden1=neuron_layer(X,n_hidden1,name=\"hidden1\",activation=tf.nn.relu)\n",
    "    \n",
    "    #hidden1 ==> hidden2\n",
    "    hidden2=neuron_layer(hidden1,n_hidden2,name=\"hidden2\",activation=tf.nn.relu)\n",
    "    \n",
    "    #hidden2 ==> outputs\n",
    "    logits=neuron_layer(hidden2,n_outputs,name=\"outputs\")\n",
    "    \n",
    "    #neuron_layer() can be raplaced to tf.layers.dense()"
   ]
  },
  {
   "cell_type": "code",
   "execution_count": 5,
   "metadata": {},
   "outputs": [],
   "source": [
    "#calculate loss for training (loss function)\n",
    "with tf.name_scope(\"loss\"):\n",
    "    xentropy=tf.nn.sparse_softmax_cross_entropy_with_logits(labels=y,logits=logits)\n",
    "    loss=tf.reduce_mean(xentropy,name=\"loss\")"
   ]
  },
  {
   "cell_type": "code",
   "execution_count": 6,
   "metadata": {},
   "outputs": [],
   "source": [
    "learning_rate=0.01\n",
    "#optimizer for loss function\n",
    "with tf.name_scope(\"train\"):\n",
    "    optimizer=tf.train.GradientDescentOptimizer(learning_rate)\n",
    "    training_op=optimizer.minimize(loss)"
   ]
  },
  {
   "cell_type": "code",
   "execution_count": 7,
   "metadata": {},
   "outputs": [],
   "source": [
    "#does our network answer rithg?\n",
    "with tf.name_scope(\"eval\"):\n",
    "    \n",
    "    #boolean tensor\n",
    "    correct=tf.nn.in_top_k(logits,y,1)\n",
    "    \n",
    "    #middle value\n",
    "    accuracy=tf.reduce_mean(tf.cast(correct,tf.float32))"
   ]
  },
  {
   "cell_type": "code",
   "execution_count": 8,
   "metadata": {},
   "outputs": [],
   "source": [
    "#clear namespace for tensorboard\n",
    "init=tf.global_variables_initializer()\n",
    "#save model to disk\n",
    "saver=tf.train.Saver()"
   ]
  },
  {
   "cell_type": "markdown",
   "metadata": {},
   "source": [
    "**Execution stage"
   ]
  },
  {
   "cell_type": "code",
   "execution_count": 9,
   "metadata": {},
   "outputs": [],
   "source": [
    "#load data\n",
    "(X_train, y_train), (X_test, y_test) = tf.keras.datasets.mnist.load_data()\n",
    "X_train = X_train.astype(np.float32).reshape(-1, 28*28) / 255.0\n",
    "X_test = X_test.astype(np.float32).reshape(-1, 28*28) / 255.0\n",
    "y_train = y_train.astype(np.int32)\n",
    "y_test = y_test.astype(np.int32)\n",
    "X_valid, X_train = X_train[:5000], X_train[5000:]\n",
    "y_valid, y_train = y_train[:5000], y_train[5000:]"
   ]
  },
  {
   "cell_type": "code",
   "execution_count": 10,
   "metadata": {},
   "outputs": [],
   "source": [
    "#set network parameters\n",
    "n_epochs=40\n",
    "batch_size=50"
   ]
  },
  {
   "cell_type": "code",
   "execution_count": 11,
   "metadata": {},
   "outputs": [],
   "source": [
    "def shuffle_batch(X, y, batch_size):\n",
    "    rnd_idx = np.random.permutation(len(X))\n",
    "    n_batches = len(X) // batch_size\n",
    "    for batch_idx in np.array_split(rnd_idx, n_batches):\n",
    "        X_batch, y_batch = X[batch_idx], y[batch_idx]\n",
    "        yield X_batch, y_batch"
   ]
  },
  {
   "cell_type": "code",
   "execution_count": null,
   "metadata": {},
   "outputs": [],
   "source": [
    "#training\n",
    "#open session\n",
    "with tf.Session() as sess:\n",
    "    #init all variables\n",
    "    init.run()\n",
    "    #step each epoch\n",
    "    for epoch in range(n_epochs):\n",
    "        #extract each mini-batch corresponding training set\n",
    "        for X_batch, y_batch in shuffle_batch(X_train, y_train, batch_size):\n",
    "            #perform training operation, using input data mini-batch and goals\n",
    "            sess.run(training_op,feed_dict={X:X_batch,y:y_batch})\n",
    "        #last mini-batch model evaluation\n",
    "        acc_batch=accuracy.eval(feed_dict={X:X_batch,y:y_batch})\n",
    "        #full training set model evaluation\n",
    "        acc_val=accuracy.eval(feed_dict={X:X_valid,y:y_valid})\n",
    "        print(epoch,\"training accuracy: \",acc_batch,\"test accuracy: \",acc_val)\n",
    "        #save parameters\n",
    "        save_path=saver.save(sess,\"./my_model_final.ckpt\")"
   ]
  },
  {
   "cell_type": "markdown",
   "metadata": {},
   "source": [
    "**Using neural network"
   ]
  },
  {
   "cell_type": "markdown",
   "metadata": {},
   "source": [
    "imagePath=\"data/test/1/myFourBlack28.png\"\n",
    "imageRaw = tf.read_file(imagePath)\n",
    "print(imageRaw)\n",
    "print(repr(imageRaw)[:100]+\"...\")"
   ]
  },
  {
   "cell_type": "markdown",
   "metadata": {},
   "source": [
    "imageTensor = tf.image.decode_image(imageRaw)\n",
    "print(imageTensor.shape)\n",
    "print(imageTensor.dtype)\n",
    "#print(X_new_scaled)"
   ]
  },
  {
   "cell_type": "markdown",
   "metadata": {},
   "source": [
    "image = tf.image.decode_png(imageRaw, channels=3)\n",
    "print(image)"
   ]
  },
  {
   "cell_type": "markdown",
   "metadata": {},
   "source": [
    "predictionDataSet=tf.data.Dataset.from_tensor_slices([\"data/test\"])\n",
    "predictionDataSet"
   ]
  },
  {
   "cell_type": "code",
   "execution_count": 51,
   "metadata": {},
   "outputs": [],
   "source": [
    "def printSymbol(symbolData):\n",
    "    for y_axis in range(28):\n",
    "        stringCurrent=\"\"\n",
    "        for x_axis in range(28):\n",
    "            valueCurrent=symbolData[0][y_axis*28+x_axis]\n",
    "            if valueCurrent==0:\n",
    "                stringCurrent+=\"-\"\n",
    "            else:\n",
    "                stringCurrent+=\"#\"\n",
    "        print(stringCurrent)"
   ]
  },
  {
   "cell_type": "code",
   "execution_count": 61,
   "metadata": {},
   "outputs": [
    {
     "name": "stdout",
     "output_type": "stream",
     "text": [
      "----------------------------\n",
      "-------------###------------\n",
      "------------#####-----------\n",
      "------------#####-----------\n",
      "-----------######-----------\n",
      "-----------######-----------\n",
      "-----------######-----------\n",
      "-----------######-----------\n",
      "------------#####-----------\n",
      "-----------######-----------\n",
      "-----------#######----------\n",
      "-----------#######----------\n",
      "-----------#######----------\n",
      "--------------#####---------\n",
      "--------------#####---------\n",
      "--------------#####---------\n",
      "-------##-----#####---------\n",
      "-------###----#####---------\n",
      "-------###----#####---------\n",
      "-------####---#####---------\n",
      "-------####--#####----------\n",
      "-------####-######----------\n",
      "-------###########----------\n",
      "-------##########-----------\n",
      "-------#########------------\n",
      "-------########-------------\n",
      "--------######--------------\n",
      "----------------------------\n"
     ]
    }
   ],
   "source": [
    "import numpy as np\n",
    "from PIL import Image\n",
    "\n",
    "#imagePath=\"data/test/1/myFourBlack28.png\"\n",
    "imagePath=\"data/test/1/newsymbol28.png\"\n",
    "img = Image.open(imagePath)\n",
    "X_new_scaled = np.asarray(img, dtype=np.float32)\n",
    "X_new_scaled=X_new_scaled[:,:,0]\n",
    "X_new_scaled=np.reshape(X_new_scaled,[1,28*28])\n",
    "X_new_scaled/=255\n",
    "printSymbol(X_new_scaled)"
   ]
  },
  {
   "cell_type": "code",
   "execution_count": 63,
   "metadata": {},
   "outputs": [
    {
     "name": "stdout",
     "output_type": "stream",
     "text": [
      "INFO:tensorflow:Restoring parameters from ./my_model_final.ckpt\n"
     ]
    }
   ],
   "source": [
    "#open session\n",
    "with tf.Session() as sess:\n",
    "    #load model\n",
    "    saver.restore(sess,\"./my_model_final.ckpt\")\n",
    "    #a series of new images for classification, scaled within 0 and 1\n",
    "    #X_new_scaled=[...]\n",
    "    #evaluate logits node\n",
    "    Z=logits.eval(feed_dict={X:X_new_scaled})\n",
    "    #call argmax function to made a class prognose. Or call softmax to know all class evaluation probability\n",
    "    y_pred=np.argmax(Z,axis=1)"
   ]
  },
  {
   "cell_type": "code",
   "execution_count": 64,
   "metadata": {},
   "outputs": [
    {
     "name": "stdout",
     "output_type": "stream",
     "text": [
      "[3]\n"
     ]
    }
   ],
   "source": [
    "print(y_pred)"
   ]
  }
 ],
 "metadata": {
  "kernelspec": {
   "display_name": "Python 3",
   "language": "python",
   "name": "python3"
  },
  "language_info": {
   "codemirror_mode": {
    "name": "ipython",
    "version": 3
   },
   "file_extension": ".py",
   "mimetype": "text/x-python",
   "name": "python",
   "nbconvert_exporter": "python",
   "pygments_lexer": "ipython3",
   "version": "3.6.7"
  }
 },
 "nbformat": 4,
 "nbformat_minor": 2
}
