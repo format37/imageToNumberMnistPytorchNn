{
 "cells": [
  {
   "cell_type": "code",
   "execution_count": 2,
   "metadata": {},
   "outputs": [],
   "source": [
    "import matplotlib.pyplot\n",
    "%matplotlib inline\n",
    "\n",
    "import numpy\n",
    "import scipy.special\n",
    "\n",
    "import httplib2\n",
    "import os"
   ]
  },
  {
   "cell_type": "code",
   "execution_count": 56,
   "metadata": {},
   "outputs": [],
   "source": [
    "def httpDownload(source,destinationPath,destinationFile):\n",
    "    h = httplib2.Http('.cache')\n",
    "    response, content = h.request(source)\n",
    "    if os.path.exists(destinationPath)==False:\n",
    "        os.mkdir(destinationPath)\n",
    "    with open(destinationPath+destinationFile,'wb') as out:\n",
    "        out.write(content)\n",
    "        out.close()"
   ]
  },
  {
   "cell_type": "code",
   "execution_count": 90,
   "metadata": {},
   "outputs": [],
   "source": [
    "#download csv mnist data from https://pjreddie.com/projects/mnist-in-csv/\n",
    "mnistSource=\"https://pjreddie.com/media/files/\"\n",
    "filepath=\"mnist_dataset/\"\n",
    "filename=\"mnist_test.csv\"\n",
    "httpDownload(mnistSource+filename,filepath,filename)\n",
    "filename=\"mnist_train.csv\"\n",
    "httpDownload(mnistSource+filename,filepath,filename)"
   ]
  },
  {
   "cell_type": "code",
   "execution_count": 91,
   "metadata": {},
   "outputs": [
    {
     "data": {
      "text/plain": [
       "<matplotlib.image.AxesImage at 0x7f5941c3b668>"
      ]
     },
     "execution_count": 91,
     "metadata": {},
     "output_type": "execute_result"
    },
    {
     "data": {
      "image/png": "[encoded data removed]",
      "text/plain": [
       "<matplotlib.figure.Figure at 0x7f5941ce6c88>"
      ]
     },
     "metadata": {
      "needs_background": "light"
     },
     "output_type": "display_data"
    }
   ],
   "source": [
    "#read data\n",
    "data_file=open(filepath+filename)\n",
    "data_list=data_file.readlines()\n",
    "data_file.close()\n",
    "#plot one symbol\n",
    "all_values=data_list[0].split(',')\n",
    "image_array=numpy.asfarray(all_values[1:]).reshape((28,28))\n",
    "matplotlib.pyplot.imshow(image_array,cmap='Greys',interpolation='None')"
   ]
  },
  {
   "cell_type": "code",
   "execution_count": 3,
   "metadata": {},
   "outputs": [],
   "source": [
    "class neuralNetwork:\n",
    "    \n",
    "    def __init__(self,inputnodes,hiddennodes,outputnodes,learningrate):\n",
    "        \n",
    "        #count of nodes: in, hidden, out layers\n",
    "        self.inodes=inputnodes\n",
    "        self.hnodes=hiddennodes\n",
    "        self.onodes=outputnodes\n",
    "        \n",
    "        #weight communication coefficient: weight_input_hidden & weight_hidden_output\n",
    "        self.wih=numpy.random.normal(0.0,pow(self.hnodes,-0.5),(self.hnodes,self.inodes))\n",
    "        self.who=numpy.random.normal(0.0,pow(self.onodes,-0.5),(self.onodes,self.hnodes))\n",
    "        \n",
    "        #learning coefficient\n",
    "        self.lr=learningrate\n",
    "        \n",
    "        #sigmoid activation function\n",
    "        self.activation_function=lambda x: scipy.special.expit(x)\n",
    "        \n",
    "    def train(self, inputs_list, targets_list):\n",
    "        \n",
    "        #convert to 2-dim array\n",
    "        inputs=numpy.array(inputs_list,ndmin=2).T\n",
    "        targets=numpy.array(targets_list,ndmin=2).T\n",
    "        \n",
    "        #input sighals ==> hidden layer\n",
    "        hidden_inputs=numpy.dot(self.wih,inputs)\n",
    "    \n",
    "        #hidden layer ==> output signals \n",
    "        hidden_outputs=self.activation_function(hidden_inputs)\n",
    "        \n",
    "        #input signals ==> output layer\n",
    "        final_inputs=numpy.dot(self.who,hidden_outputs)\n",
    "        \n",
    "        #output layer ==> output signals\n",
    "        final_outputs=self.activation_function(final_inputs)\n",
    "        \n",
    "        output_errors=targets-final_outputs\n",
    "        \n",
    "        #input vs hidden layer errors\n",
    "        hidden_errors=numpy.dot(self.who.T,output_errors)\n",
    "        \n",
    "        #hidden vs output weight coefficients update\n",
    "        self.who+=self.lr*numpy.dot((output_errors*final_outputs*(1.0-final_outputs)),numpy.transpose(hidden_outputs))\n",
    "        \n",
    "        #input vs hidden weight coefficients update\n",
    "        self.wih+=self.lr*numpy.dot((hidden_errors*hidden_outputs*(1.0-hidden_outputs)),numpy.transpose(inputs))\n",
    "    \n",
    "    def query(self, inputs_list):\n",
    "        \n",
    "        #convert to 2-dim array\n",
    "        inputs=numpy.array(inputs_list,ndmin=2).T\n",
    "        \n",
    "        #input signals ==> hidden layer\n",
    "        hidden_inputs=numpy.dot(self.wih,inputs)\n",
    "        \n",
    "        #hidden layer ==> output signals \n",
    "        hidden_outputs=self.activation_function(hidden_inputs)\n",
    "        \n",
    "        #input signals ==> output layer\n",
    "        final_inputs=numpy.dot(self.who,hidden_outputs)\n",
    "        \n",
    "        #output layer ==> output signals\n",
    "        final_outputs=self.activation_function(final_inputs)\n",
    "\n",
    "        return final_outputs"
   ]
  },
  {
   "cell_type": "code",
   "execution_count": 14,
   "metadata": {},
   "outputs": [],
   "source": [
    "#nodes count\n",
    "input_nodes=784 #28x28\n",
    "hidden_nodes=500\n",
    "output_nodes=10\n",
    "\n",
    "learning_rate=0.2\n",
    "\n",
    "n=neuralNetwork(input_nodes,hidden_nodes,output_nodes,learning_rate)"
   ]
  },
  {
   "cell_type": "code",
   "execution_count": 15,
   "metadata": {},
   "outputs": [],
   "source": [
    "#read data\n",
    "filepath=\"mnist_dataset/\"\n",
    "filename=\"mnist_train.csv\"\n",
    "training_data_file=open(filepath+filename)\n",
    "training_data_list=training_data_file.readlines()\n",
    "training_data_file.close()"
   ]
  },
  {
   "cell_type": "code",
   "execution_count": 16,
   "metadata": {},
   "outputs": [
    {
     "name": "stdout",
     "output_type": "stream",
     "text": [
      "0\n",
      "1\n",
      "2\n",
      "3\n",
      "4\n",
      "5\n",
      "6\n"
     ]
    }
   ],
   "source": [
    "#training\n",
    "epochs=7\n",
    "for e in range (epochs):\n",
    "    for record in training_data_list:\n",
    "        #read lines\n",
    "        all_values=record.split(',')\n",
    "        #scaling and bias\n",
    "        inputs=(numpy.asfarray(all_values[1:])/255.0*0.99)+0.01\n",
    "        #target output values\n",
    "        targets=numpy.zeros(output_nodes)+0.01\n",
    "        #all_values[0] - is target marker value for current record\n",
    "        targets[int(all_values[0])]=0.99\n",
    "        n.train(inputs,targets)\n",
    "    print(e)"
   ]
  },
  {
   "cell_type": "code",
   "execution_count": 12,
   "metadata": {},
   "outputs": [],
   "source": [
    "#testing\n",
    "#read data\n",
    "filepath=\"mnist_dataset/\"\n",
    "filename=\"mnist_test.csv\"\n",
    "test_data_file=open(filepath+filename)\n",
    "test_data_list=test_data_file.readlines()\n",
    "test_data_file.close()\n",
    "\n",
    "#all_values=test_data_list[0].split(',')\n",
    "#print(all_values[0])\n",
    "#n.query((numpy.asfarray(all_values[1:])/255.0*0.99)+0.01)"
   ]
  },
  {
   "cell_type": "code",
   "execution_count": 13,
   "metadata": {},
   "outputs": [
    {
     "name": "stdout",
     "output_type": "stream",
     "text": [
      "efficiency:  0.9664\n"
     ]
    }
   ],
   "source": [
    "scorecard=[]\n",
    "for record in test_data_list:\n",
    "    all_values=record.split(',')\n",
    "    correct_label=int(all_values[0])\n",
    "    #scaling and bias\n",
    "    inputs=(numpy.asfarray(all_values[1:])/255.0*0.99)+0.01\n",
    "    #query\n",
    "    outputs=n.query(inputs)\n",
    "    label=numpy.argmax(outputs)\n",
    "    #print(str(correct_label)+\":\"+str(label))\n",
    "    if (label==correct_label):\n",
    "        scorecard.append(1)\n",
    "    else:\n",
    "        scorecard.append(0)\n",
    "        \n",
    "scorecard_array=numpy.asarray(scorecard)\n",
    "print(\"efficiency: \",scorecard_array.sum()/scorecard_array.size)"
   ]
  },
  {
   "cell_type": "code",
   "execution_count": null,
   "metadata": {},
   "outputs": [],
   "source": []
  }
 ],
 "metadata": {
  "kernelspec": {
   "display_name": "Python 3",
   "language": "python",
   "name": "python3"
  },
  "language_info": {
   "codemirror_mode": {
    "name": "ipython",
    "version": 3
   },
   "file_extension": ".py",
   "mimetype": "text/x-python",
   "name": "python",
   "nbconvert_exporter": "python",
   "pygments_lexer": "ipython3",
   "version": "3.6.7"
  }
 },
 "nbformat": 4,
 "nbformat_minor": 2
}
